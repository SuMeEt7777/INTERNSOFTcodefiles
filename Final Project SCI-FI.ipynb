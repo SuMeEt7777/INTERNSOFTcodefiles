{
 "cells": [
  {
   "cell_type": "code",
   "execution_count": 1,
   "id": "2548348a",
   "metadata": {},
   "outputs": [],
   "source": [
    "import time\n",
    "import os\n",
    "import subprocess\n",
    "import json\n",
    "import wolframalpha\n",
    "\n",
    "client = wolframalpha.Client('*****')"
   ]
  },
  {
   "cell_type": "code",
   "execution_count": 2,
   "id": "736be4fe",
   "metadata": {},
   "outputs": [],
   "source": [
    "import requests\n",
    "import datetime\n",
    "import webbrowser\n",
    "import wikipedia"
   ]
  },
  {
   "cell_type": "code",
   "execution_count": 3,
   "id": "e0a1db44",
   "metadata": {},
   "outputs": [],
   "source": [
    "import speech_recognition as sr\n",
    "import pyttsx3"
   ]
  },
  {
   "cell_type": "code",
   "execution_count": 4,
   "id": "6901c77a",
   "metadata": {},
   "outputs": [
    {
     "name": "stdout",
     "output_type": "stream",
     "text": [
      "LOADING YOUR PERSONAL ASSISTANT SIGMA\n"
     ]
    }
   ],
   "source": [
    "print(\"LOADING YOUR PERSONAL ASSISTANT SIGMA\")\n"
   ]
  },
  {
   "cell_type": "code",
   "execution_count": 5,
   "id": "97821e30",
   "metadata": {},
   "outputs": [],
   "source": [
    "engine = pyttsx3.init('sapi5')                                     #voice[0]=man   voice[1]=lady voices\n",
    "voices = engine.getProperty('voices')\n",
    "engine.setProperty('voices','voices[1].id')"
   ]
  },
  {
   "cell_type": "code",
   "execution_count": 6,
   "id": "5f4584fb",
   "metadata": {},
   "outputs": [],
   "source": [
    "def speak(text):\n",
    "    engine.say(text)\n",
    "    engine.runAndWait()"
   ]
  },
  {
   "cell_type": "code",
   "execution_count": 7,
   "id": "55d65cc8",
   "metadata": {},
   "outputs": [],
   "source": [
    "\n",
    "import datetime\n",
    "\n",
    "def wishMe():\n",
    "    hour = datetime.datetime.now().hour\n",
    "    if 0 <= hour < 12:\n",
    "        speak('hello, Good morning Mr.Sumeet')\n",
    "        print('hello, Good morning Mr.Sumeet')\n",
    "    elif 12 <= hour <= 18:\n",
    "        speak('hello, Good afternoon Mr.Sumeet')\n",
    "        print('hello, Good afternoon Mr.Sumeet')\n",
    "    else:\n",
    "        speak(\"hello Mr.Sumeet, it's already night, better go to sleep\")\n",
    "        print(\"hello Mr.Sumeet, it's already night, better go to sleep\")\n",
    "\n"
   ]
  },
  {
   "cell_type": "code",
   "execution_count": 8,
   "id": "961620ab",
   "metadata": {},
   "outputs": [],
   "source": [
    "import speech_recognition as sr\n",
    "\n",
    "def takeCommand():\n",
    "    r = sr.Recognizer()\n",
    "    with sr.Microphone() as source:\n",
    "        print(\"I am listening, How can I help you?\")\n",
    "        audio = r.listen(source)\n",
    "        \n",
    "        try:\n",
    "            statement = r.recognize_google(audio, language='en')  # Change 'en' to the appropriate language code\n",
    "            print(f\"user said: {statement}\\n\")\n",
    "        except Exception as e:\n",
    "            speak(\"Pardon! Please say that again.\")\n",
    "            return 'none'\n",
    "        return statement\n",
    "\n",
    "            "
   ]
  },
  {
   "cell_type": "code",
   "execution_count": 9,
   "id": "dcf8260f",
   "metadata": {},
   "outputs": [
    {
     "name": "stdout",
     "output_type": "stream",
     "text": [
      "hello Mr.Sumeet, it's already night, better go to sleep\n"
     ]
    }
   ],
   "source": [
    "speak(\"LOADING YOUR PERSONAL AI ASSISTANT SIGMA\")\n",
    "wishMe()"
   ]
  },
  {
   "cell_type": "code",
   "execution_count": null,
   "id": "0fe37d49",
   "metadata": {},
   "outputs": [],
   "source": [
    "if __name__ == '__main__':\n",
    "    while True:\n",
    "        speak(\"Tell me how can I help you now?\")\n",
    "        statement = takeCommand().lower()\n",
    "\n",
    "        if statement == 0:\n",
    "            continue\n",
    "\n",
    "        if \"good bye\" in statement or \"ok bye\" in statement or \"stop\" in statement:\n",
    "            speak('Your personal assistant G-one is shutting down. Goodbye')\n",
    "            print('Your personal assistant G-one is shutting down. Goodbye')\n",
    "            break\n",
    "        \n",
    "        if 'wikipedia' in statement:\n",
    "            speak('Searching Wikipedia...')\n",
    "            statement = statement.replace(\"wikipedia\", \"\")\n",
    "            results = wikipedia.summary(statement, sentences=3)\n",
    "            speak(\"According to Wikipedia\")\n",
    "            print(results)\n",
    "            speak(results)\n",
    "        \n",
    "        elif 'open youtube' in statement:\n",
    "            webbrowser.open_new_tab(\"https://www.youtube.com\")\n",
    "            speak(\"YouTube is open now\")\n",
    "            time.sleep(5)\n",
    "        \n",
    "        elif 'open google' in statement:\n",
    "            webbrowser.open_new_tab(\"https://www.google.com\")\n",
    "            speak(\"Google Chrome is open now\")\n",
    "            time.sleep(5)\n",
    "        \n",
    "        elif 'open gmail' in statement:\n",
    "            webbrowser.open_new_tab(\"gmail.com\")\n",
    "            speak(\"Google Mail is open now\")\n",
    "            time.sleep(5)\n",
    "        \n",
    "        elif 'time' in statement:\n",
    "            strTime = datetime.datetime.now().strftime(\"%H:%M:%S\")\n",
    "            speak(f\"The time is {strTime}\")\n",
    "        \n",
    "        elif 'news' in statement:\n",
    "            news = webbrowser.open_new_tab(\"https://timesofindia.indiatimes.com/home/headlines\")\n",
    "            speak('Here are some headlines from the Times of India. Happy reading!')\n",
    "            time.sleep(6)\n",
    "        \n",
    "        \n",
    "        \n",
    "        elif 'ask' in statement:\n",
    "            speak('I can answer computational and geographical questions. What question do you want to ask now?')\n",
    "            question = takeCommand()\n",
    "            app_id = \"Paste your unique ID here\"\n",
    "            client = wolframalpha.Client('R2K75H-7ELALHR35X')\n",
    "            res = client.query(question)\n",
    "            answer = next(res.results).text\n",
    "            speak(answer)\n",
    "            print(answer)\n",
    "        \n",
    "        elif 'who are you' in statement or 'what can you do' in statement:\n",
    "            speak('I am G-one version 1.0, your personal assistant. I am programmed to perform tasks like opening YouTube, Google Chrome, Gmail, Stack Overflow, predicting time, taking a photo, searching Wikipedia, predicting weather in different cities, fetching top headlines from Times of India, and answering computational or geographical questions.')\n",
    "        \n",
    "        \n",
    "        \n",
    "        elif \"who made you\" in statement or \"who created you\" in statement or \"who discovered you\" in statement:\n",
    "            speak(\"I was built by Sumeet\")\n",
    "            print(\"I was built by Sumeet\")\n",
    "        \n",
    "        elif \"weather\" in statement:\n",
    "            api_key = \"Apply your unique ID\"\n",
    "            base_url = \"https://api.openweathermap.org/data/2.5/weather?\"\n",
    "            speak(\"What is the city name?\")\n",
    "            city_name = takeCommand()\n",
    "            complete_url = base_url + \"appid=\" + api_key + \"&q=\" + city_name\n",
    "            response = requests.get(complete_url)\n",
    "            x = response.json()\n",
    "            \n",
    "            if x[\"cod\"] != \"404\":\n",
    "                y = x[\"main\"]\n",
    "                current_temperature = y[\"temp\"]\n",
    "                current_humidity = y[\"humidity\"]\n",
    "                z = x[\"weather\"]\n",
    "                weather_description = z[0][\"description\"]\n",
    "                speak(\" Temperature in kelvin unit is \" +\n",
    "                      str(current_temperature) +\n",
    "                      \"\\n humidity in percentage is \" +\n",
    "                      str(current_humidity) +\n",
    "                      \"\\n description: \" +\n",
    "                      str(weather_description))\n",
    "                print(\" Temperature in kelvin unit = \" +\n",
    "                      str(current_temperature) +\n",
    "                      \"\\n humidity (in percentage) = \" +\n",
    "                      str(current_humidity) +\n",
    "                      \"\\n description = \" +\n",
    "                      str(weather_description))\n",
    "        \n",
    "        elif \"log off\" in statement or \"sign out\" in statement:\n",
    "            speak(\"Ok, your PC will log off in 10 seconds. Make sure you exit from all applications.\")\n",
    "            subprocess.call([\"shutdown\", \"/l\"])\n",
    "            time.sleep(5)\n"
   ]
  },
  {
   "cell_type": "code",
   "execution_count": null,
   "id": "7e0e1760",
   "metadata": {},
   "outputs": [],
   "source": []
  }
 ],
 "metadata": {
  "kernelspec": {
   "display_name": "Python 3 (ipykernel)",
   "language": "python",
   "name": "python3"
  },
  "language_info": {
   "codemirror_mode": {
    "name": "ipython",
    "version": 3
   },
   "file_extension": ".py",
   "mimetype": "text/x-python",
   "name": "python",
   "nbconvert_exporter": "python",
   "pygments_lexer": "ipython3",
   "version": "3.10.9"
  }
 },
 "nbformat": 4,
 "nbformat_minor": 5
}
